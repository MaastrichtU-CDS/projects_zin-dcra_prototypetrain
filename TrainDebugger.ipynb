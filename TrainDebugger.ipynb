{
 "cells": [
  {
   "cell_type": "markdown",
   "metadata": {},
   "source": [
    "# Railway Train Debugger\n",
    "Read the README.MD and FLOW.MD for more detailed explainations"
   ]
  },
  {
   "cell_type": "markdown",
   "metadata": {},
   "source": [
    "## Configuration"
   ]
  },
  {
   "cell_type": "code",
   "execution_count": 1,
   "metadata": {},
   "outputs": [],
   "source": [
    "import os\n",
    "import shutil\n",
    "import json\n",
    "import traceback\n",
    "from src.TaskDto import *\n",
    "from CentralMock import *\n",
    "import datetime\n",
    "import subprocess\n",
    "\n",
    "# static final variables, DO NOT CHANGE!\n",
    "TMP_DIR = './tmp/'\n",
    "INPUT_FILE = 'input.txt'\n",
    "OUTPUT_FILE = 'output.txt'\n",
    "COMPLETED_TASK_FILE = 'completed-client-tasks.json'\n",
    "NEW_TASK_FILE = 'new-client-tasks.json'\n",
    "\n",
    "# # Create fresh environment\n",
    "if os.path.lexists(TMP_DIR):\n",
    "    shutil.rmtree(TMP_DIR)\n",
    "os.mkdir(TMP_DIR)\n",
    "\n",
    "subprocess.call('docker build --no-cache -t test_train .')\n"
   ]
  },
  {
   "cell_type": "markdown",
   "metadata": {},
   "source": [
    "## Start Train REST mock\n",
    "- Create a list of completed tasks for the stations you want to use \n",
    "- If you need more stations extend this list\n",
    "- This module mocks the Central behaviour that triggers a train\n",
    "- To demonstrate how the input works the number of iterations for this demo is set as an input variable for the prototype train"
   ]
  },
  {
   "cell_type": "code",
   "execution_count": 2,
   "metadata": {},
   "outputs": [],
   "source": [
    "completedTasks = []\n",
    "completedTasks.append(TaskDto());\n",
    "completedTasks[0].id = 1\n",
    "completedTasks[0].calculationStatus = 'COMPLETED'\n",
    "completedTasks[0].stationId = 2\n",
    "completedTasks[0].inputStr = '2'\n",
    "completedTasks.append(TaskDto());\n",
    "completedTasks[1].id = 2\n",
    "completedTasks[1].calculationStatus = 'COMPLETED'\n",
    "completedTasks[1].stationId = 3\n",
    "completedTasks[1].inputStr = '10'\n",
    "\n",
    " # For the demo the input.txt is JSON format. But you are free to use any string format, as long as your applications knows what the format is.\n",
    "masterInputStr = json.dumps({\"iterations\": 10})\n",
    "centralMock = CentralMock(completedTasks, masterInputStr)"
   ]
  },
  {
   "cell_type": "markdown",
   "metadata": {},
   "source": [
    "## perform computations for train"
   ]
  },
  {
   "cell_type": "code",
   "execution_count": 3,
   "metadata": {},
   "outputs": [
    {
     "name": "stdout",
     "output_type": "stream",
     "text": [
      "Docker calculated 2 + 10 = 12\n"
     ]
    }
   ],
   "source": [
    "#first iteration outside of the loop because the station tasks do not need to be triggered\n",
    "result = centralMock.perfomMasterTask()\n",
    "print(\"Docker calculated 2 + 10 = \"+ result)\n",
    "# while not centralMock.train_is_done:\n",
    "#     centralMock.perfrom\n",
    "    \n",
    "#     centralMock.writeFilesForMasterTask()\n",
    "#     centralMock.iteration = centralMock.iteration + 1    "
   ]
  },
  {
   "cell_type": "markdown",
   "metadata": {},
   "source": [
    "## Final Results"
   ]
  },
  {
   "cell_type": "code",
   "execution_count": 11,
   "metadata": {},
   "outputs": [
    {
     "name": "stdout",
     "output_type": "stream",
     "text": [
      "2020-02-05 07:04:08.096895\n",
      "2020-02-05 07:04:13.250892\n"
     ]
    }
   ],
   "source": [
    "# import subprocess\n",
    "# print(datetime.datetime.now())\n",
    "# stream = subprocess.call('docker exec test_train sleep 5')\n",
    "\n",
    "# # stream.wait()\n",
    "# print(datetime.datetime.now())\n",
    "\n",
    "# output = stream.stdout\n",
    "# print(output)"
   ]
  },
  {
   "cell_type": "code",
   "execution_count": 8,
   "metadata": {},
   "outputs": [
    {
     "name": "stdout",
     "output_type": "stream",
     "text": [
      "{'id': 0, 'result': '', 'input': '', 'calculationStatus': 'COMPLETED', 'stationId': 3, 'iteration': 0}\n"
     ]
    }
   ],
   "source": [
    "test = centralMock.exportTaskDtoWithId(completedTasks[1])\n",
    "print(test)"
   ]
  },
  {
   "cell_type": "code",
   "execution_count": null,
   "metadata": {},
   "outputs": [],
   "source": []
  }
 ],
 "metadata": {
  "kernelspec": {
   "display_name": "Python 3",
   "language": "python",
   "name": "python3"
  },
  "language_info": {
   "codemirror_mode": {
    "name": "ipython",
    "version": 3
   },
   "file_extension": ".py",
   "mimetype": "text/x-python",
   "name": "python",
   "nbconvert_exporter": "python",
   "pygments_lexer": "ipython3",
   "version": "3.7.4"
  }
 },
 "nbformat": 4,
 "nbformat_minor": 4
}
