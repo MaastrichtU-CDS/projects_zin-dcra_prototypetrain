{
 "cells": [
  {
   "cell_type": "markdown",
   "metadata": {},
   "source": [
    "# Station Debugger\n",
    "this noteboke simulates the stationAlgorithmWrapper to debug the python code before building the train"
   ]
  },
  {
   "cell_type": "markdown",
   "metadata": {},
   "source": [
    "## YOUR STATION ALGORITHM\n",
    "(copy the next cell (minus the function def) in the stationAlgorithmWrapper.py as instructed in that file to create your train)"
   ]
  },
  {
   "cell_type": "code",
   "execution_count": 3,
   "metadata": {},
   "outputs": [],
   "source": [
    "# imports, make sure you have these avaible in the wrapper function as well!\n",
    "# cannot copy post because the path is differnt (e.g. src.TaskDto vs TaskDto in the masterWrapper.py)\n",
    "import json\n",
    "\n",
    "def stationAlgorithm(inputStr):\n",
    "    outputStr = ''\n",
    "    #---------------------------- cut from here ---------------------------------------------------\n",
    "    try:\n",
    "        inputJson = json.loads(inputStr)\n",
    "        inputNumber = float(inputJson['number_to_process'])\n",
    "        outputNum = inputNumber * 2\n",
    "    except:\n",
    "        outputNum = float('nan')\n",
    "\n",
    "    outputStr = json.dumps({'calculation_result': outputNum})\n",
    "\n",
    "    #---------------------------- cut to here -----------------------------------------------------\n",
    "    return outputStr"
   ]
  },
  {
   "cell_type": "markdown",
   "metadata": {},
   "source": [
    "## Tests\n",
    "The stationAlgorithm can only have one outcome\n",
    "- a outputStr to be send back to the central/masterAlgorithm"
   ]
  },
  {
   "cell_type": "code",
   "execution_count": 4,
   "metadata": {},
   "outputs": [],
   "source": [
    "inputStr = json.dumps({'number_to_process': 6})\n",
    "output = stationAlgorithm(inputStr)\n",
    "if output.__len__() > 0:\n",
    "    testResult = True\n",
    "else:\n",
    "    testResult = False"
   ]
  },
  {
   "cell_type": "markdown",
   "metadata": {},
   "source": [
    "## Results"
   ]
  },
  {
   "cell_type": "code",
   "execution_count": 7,
   "metadata": {},
   "outputs": [
    {
     "name": "stdout",
     "output_type": "stream",
     "text": [
      "your station algorithm is ready for use!\n",
      "{\"calculation_result\": 12.0}\n",
      "calculated correctly for station\n"
     ]
    }
   ],
   "source": [
    "if testResult:\n",
    "    print(\"your station algorithm is ready for use!\")\n",
    "\n",
    "#implement your own tests here!\n",
    "print(output)\n",
    "outputJson = json.loads(output)\n",
    "if outputJson['calculation_result'] == 12:\n",
    "    print('calculated correctly for station')"
   ]
  },
  {
   "cell_type": "code",
   "execution_count": null,
   "metadata": {},
   "outputs": [],
   "source": []
  }
 ],
 "metadata": {
  "kernelspec": {
   "display_name": "Python 3",
   "language": "python",
   "name": "python3"
  },
  "language_info": {
   "codemirror_mode": {
    "name": "ipython",
    "version": 3
   },
   "file_extension": ".py",
   "mimetype": "text/x-python",
   "name": "python",
   "nbconvert_exporter": "python",
   "pygments_lexer": "ipython3",
   "version": "3.7.4"
  }
 },
 "nbformat": 4,
 "nbformat_minor": 4
}
