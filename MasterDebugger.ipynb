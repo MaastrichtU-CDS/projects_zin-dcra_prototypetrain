{
 "cells": [
  {
   "cell_type": "markdown",
   "metadata": {},
   "source": [
    "# Master Debugger\n",
    "this noteboke simulates the masterAlgorithmWrapper to debug the python code before building the train"
   ]
  },
  {
   "cell_type": "markdown",
   "metadata": {},
   "source": [
    "## YOUR MASTER ALGORITHM\n",
    "(copy the next cell (minus the function def) in the masterAlgorithmWrapper.py as instructed in that file to create your train)"
   ]
  },
  {
   "cell_type": "code",
   "execution_count": 12,
   "metadata": {},
   "outputs": [],
   "source": [
    "# imports, make sure you have these avaible in the wrapper function as well!\n",
    "# cannot copy post because the path is differnt (e.g. src.TaskDto vs TaskDto in the masterWrapper.py)\n",
    "from src.TaskDto import *\n",
    "import json\n",
    "\n",
    "def masterAlgorithm(inputStr, completedClientTasks):\n",
    "    newTaskDtos = []\n",
    "    outputStr = ''\n",
    "    #---------------------------- cut from here ---------------------------------------------------\n",
    "    \n",
    "    # the input chosen is JSON, convert it now.\n",
    "    inputJson = json.loads(inputStr)\n",
    "    maxIterations = int(inputJson['iterations'])\n",
    "    \n",
    "    # this is the one or multiple station run example\n",
    "    if completedClientTasks[0].iteration < maxIterations:\n",
    "        newTaskDtos = []\n",
    "        for task in completedClientTasks:\n",
    "            newTask = TaskDto()\n",
    "            newTask.stationId = task.stationId\n",
    "            jsonOutput = json.loads(task.result)\n",
    "            newTask.inputStr = json.dumps({'number_to_process': jsonOutput['calculation_result']})\n",
    "            newTask.iteration = task.iteration + 1\n",
    "            newTaskDtos.append(newTask)\n",
    "    else:\n",
    "        #if last iteration\n",
    "        try:\n",
    "            output = 0\n",
    "            for task in completedClientTasks:\n",
    "                outputJson = json.loads(task.result)\n",
    "                output = output + float(outputJson['calculation_result'])\n",
    "        except:\n",
    "            output = float('nan')\n",
    "\n",
    "        outputStr = json.dumps({'total_sum': output})\n",
    "        \n",
    "    #---------------------------- cut to here -----------------------------------------------------\n",
    "    #helper part to get multiple results out of the function, this is not needed when you copy-paste\n",
    "    output = dict()\n",
    "    output['outputStr'] = outputStr\n",
    "    output['newTaskDtos'] = newTaskDtos\n",
    "    return output"
   ]
  },
  {
   "cell_type": "markdown",
   "metadata": {},
   "source": [
    "## Tests\n",
    "The masterAlgorithm should always have two outcomes\n",
    "- a newTaskDtos array to start the next iteration\n",
    "- a outputStr variable to signal the final master iteration"
   ]
  },
  {
   "cell_type": "markdown",
   "metadata": {},
   "source": [
    "### next iteration test"
   ]
  },
  {
   "cell_type": "code",
   "execution_count": 2,
   "metadata": {},
   "outputs": [],
   "source": [
    "inputStr = json.dumps({'iterations': 1})\n",
    "\n",
    "completedTasks = []\n",
    "completedTasks.append(TaskDto());\n",
    "completedTasks[0].id = 1\n",
    "completedTasks[0].calculationStatus = 'COMPLETED'\n",
    "completedTasks[0].stationId = 2\n",
    "completedTasks[0].result = json.dumps({'calculation_result': 2}) # add the data you need to test here\n",
    "completedTasks.append(TaskDto());\n",
    "completedTasks[1].id = 2\n",
    "completedTasks[1].calculationStatus = 'COMPLETED'\n",
    "completedTasks[1].stationId = 3\n",
    "completedTasks[1].result = json.dumps({'calculation_result': 4}) # add the data you need to test here\n",
    "\n",
    "outputIteration = masterAlgorithm(inputStr, completedTasks)\n",
    "if outputIteration['outputStr'].__len__() == 0 and outputIteration['newTaskDtos'].__len__() > 0:\n",
    "    testIteration = True\n",
    "else:\n",
    "    testIteration = False"
   ]
  },
  {
   "cell_type": "markdown",
   "metadata": {},
   "source": [
    "### final iteration test"
   ]
  },
  {
   "cell_type": "code",
   "execution_count": 9,
   "metadata": {},
   "outputs": [],
   "source": [
    "inputStr = json.dumps({'iterations': 0})\n",
    "\n",
    "completedTasks = []\n",
    "completedTasks.append(TaskDto());\n",
    "completedTasks[0].id = 1\n",
    "completedTasks[0].calculationStatus = 'COMPLETED'\n",
    "completedTasks[0].stationId = 2\n",
    "completedTasks[0].result = json.dumps({'calculation_result': 2}) # add the data you need to test here\n",
    "completedTasks.append(TaskDto());\n",
    "completedTasks[1].id = 2\n",
    "completedTasks[1].calculationStatus = 'COMPLETED'\n",
    "completedTasks[1].stationId = 3\n",
    "completedTasks[1].result = json.dumps({'calculation_result': 4}) # add the data you need to test here\n",
    "\n",
    "outputFinal = masterAlgorithm(inputStr, completedTasks)\n",
    "if outputFinal['outputStr'].__len__() == 0 and outputFinal['outputStr'].__len__() > 0:\n",
    "    testFinal = True\n",
    "else:\n",
    "    testFinal = False"
   ]
  },
  {
   "cell_type": "markdown",
   "metadata": {},
   "source": [
    "## Results"
   ]
  },
  {
   "cell_type": "code",
   "execution_count": 11,
   "metadata": {},
   "outputs": [
    {
     "name": "stdout",
     "output_type": "stream",
     "text": [
      "iteration test ok: True\n",
      "final test ok: False\n",
      "{\"result\": \"\", \"input\": \"{\\\"number_to_process\\\": 2}\", \"calculationStatus\": \"REQUESTED\", \"stationId\": 2, \"iteration\": 1}\n",
      "{\"result\": \"\", \"input\": \"{\\\"number_to_process\\\": 4}\", \"calculationStatus\": \"REQUESTED\", \"stationId\": 3, \"iteration\": 1}\n",
      "{\"total_sum\": 6.0}\n",
      "total sum calculated correctly for final iteration\n"
     ]
    }
   ],
   "source": [
    "print('iteration test ok: ' + str(testIteration))\n",
    "print('final test ok: ' + str(testFinal))\n",
    "if testIteration and testFinal:\n",
    "    print(\"your master algorithm is ready for use!\")\n",
    "\n",
    "#implement your own tests here!\n",
    "from src.TaskDto import *\n",
    "\n",
    "newTasks = outputIteration['newTaskDtos']\n",
    "for task in newTasks:\n",
    "    print(json.dumps(task.export()))\n",
    "    # eyeball if the input is ok\n",
    "    \n",
    "outputStr = outputFinal['outputStr']\n",
    "print(outputStr)\n",
    "outputJson = json.loads(outputStr)\n",
    "if outputJson['total_sum'] == 6:\n",
    "    print('total sum calculated correctly for final iteration')\n",
    "    "
   ]
  },
  {
   "cell_type": "code",
   "execution_count": 6,
   "metadata": {},
   "outputs": [
    {
     "name": "stdout",
     "output_type": "stream",
     "text": [
      "0\n"
     ]
    }
   ],
   "source": [
    "print(outputStr.__len__())"
   ]
  },
  {
   "cell_type": "code",
   "execution_count": null,
   "metadata": {},
   "outputs": [],
   "source": []
  }
 ],
 "metadata": {
  "kernelspec": {
   "display_name": "Python 3",
   "language": "python",
   "name": "python3"
  },
  "language_info": {
   "codemirror_mode": {
    "name": "ipython",
    "version": 3
   },
   "file_extension": ".py",
   "mimetype": "text/x-python",
   "name": "python",
   "nbconvert_exporter": "python",
   "pygments_lexer": "ipython3",
   "version": "3.7.4"
  }
 },
 "nbformat": 4,
 "nbformat_minor": 4
}
