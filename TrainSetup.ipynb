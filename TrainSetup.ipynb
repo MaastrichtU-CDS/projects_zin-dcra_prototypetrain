{
 "cells": [
  {
   "cell_type": "markdown",
   "metadata": {},
   "source": [
    "# Railway Train Setup"
   ]
  },
  {
   "cell_type": "markdown",
   "metadata": {},
   "source": [
    "### Imports"
   ]
  },
  {
   "cell_type": "code",
   "execution_count": 2,
   "metadata": {},
   "outputs": [],
   "source": [
    "import os\n",
    "import shutil\n",
    "from CentralMock import *"
   ]
  },
  {
   "cell_type": "markdown",
   "metadata": {},
   "source": [
    "### Create fresh environment"
   ]
  },
  {
   "cell_type": "code",
   "execution_count": 3,
   "metadata": {},
   "outputs": [],
   "source": [
    "if os.path.lexists('./tmp/'):\n",
    "    shutil.rmtree('./tmp/')\n",
    "os.mkdir('./tmp/')"
   ]
  },
  {
   "cell_type": "markdown",
   "metadata": {},
   "source": [
    "### Create a clean build of the train"
   ]
  },
  {
   "cell_type": "code",
   "execution_count": 15,
   "metadata": {},
   "outputs": [
    {
     "name": "stdout",
     "output_type": "stream",
     "text": [
      "Sending build context to Docker daemon  214.5kB\n",
      "Step 1/18 : FROM python:3.7\n",
      " ---> 894300ec3929\n",
      "Step 2/18 : RUN touch /opt/input.txt\n",
      " ---> Running in b63f2673442d\n",
      "Removing intermediate container b63f2673442d\n",
      " ---> 8833ad189246\n",
      "Step 3/18 : RUN touch /opt/output.txt\n",
      " ---> Running in 553673f9c847\n",
      "Removing intermediate container 553673f9c847\n",
      " ---> a9627ec2fca7\n",
      "Step 4/18 : RUN touch /opt/completed-client-tasks.json\n",
      " ---> Running in 75b3f6362f6a\n",
      "Removing intermediate container 75b3f6362f6a\n",
      " ---> 495189c87b21\n",
      "Step 5/18 : RUN touch /opt/new-client-tasks.json\n",
      " ---> Running in 8b7c8c7fdb8a\n",
      "Removing intermediate container 8b7c8c7fdb8a\n",
      " ---> 2dc18089077d\n",
      "Step 6/18 : COPY ./run.sh /run.sh\n",
      " ---> 6fbf2c76723b\n",
      "Step 7/18 : COPY ./runMaster.sh /runMaster.sh\n",
      " ---> 5ae70150464c\n",
      "Step 8/18 : COPY ./runStation.sh /runStation.sh\n",
      " ---> b561b64aab46\n",
      "Step 9/18 : COPY ./src /app\n",
      " ---> ddccbbb11520\n",
      "Step 10/18 : WORKDIR /app\n",
      " ---> Running in b67a85c425d5\n",
      "Removing intermediate container b67a85c425d5\n",
      " ---> 0095762859c5\n",
      "Step 11/18 : RUN pip install -r requirements.txt\n",
      " ---> Running in 61e438c99695\n",
      "Removing intermediate container 61e438c99695\n",
      " ---> dcc9b795e0ca\n",
      "Step 12/18 : RUN apt-get update && apt-get install -y dos2unix\n",
      " ---> Running in 9292d390dca6\n",
      "Get:1 http://security.debian.org/debian-security buster/updates InRelease [65.4 kB]\n",
      "Get:2 http://deb.debian.org/debian buster InRelease [122 kB]\n",
      "Get:3 http://deb.debian.org/debian buster-updates InRelease [49.3 kB]\n",
      "Get:4 http://security.debian.org/debian-security buster/updates/main amd64 Packages [175 kB]\n",
      "Get:5 http://deb.debian.org/debian buster/main amd64 Packages [7908 kB]\n",
      "Get:6 http://deb.debian.org/debian buster-updates/main amd64 Packages [5792 B]\n",
      "Fetched 8325 kB in 2s (4026 kB/s)\n",
      "Reading package lists...\n",
      "Reading package lists...\n",
      "Building dependency tree...\n",
      "Reading state information...\n",
      "The following NEW packages will be installed:\n",
      "  dos2unix\n",
      "0 upgraded, 1 newly installed, 0 to remove and 0 not upgraded.\n",
      "Need to get 391 kB of archives.\n",
      "After this operation, 1339 kB of additional disk space will be used.\n",
      "Get:1 http://deb.debian.org/debian buster/main amd64 dos2unix amd64 7.4.0-1 [391 kB]\n",
      "\u001b[91mdebconf: delaying package configuration, since apt-utils is not installed\n",
      "\u001b[0mFetched 391 kB in 0s (2695 kB/s)\n",
      "Selecting previously unselected package dos2unix.\n",
      "(Reading database ... 24593 files and directories currently installed.)\n",
      "Preparing to unpack .../dos2unix_7.4.0-1_amd64.deb ...\n",
      "Unpacking dos2unix (7.4.0-1) ...\n",
      "Setting up dos2unix (7.4.0-1) ...\n",
      "Removing intermediate container 9292d390dca6\n",
      " ---> 117e491b2a4a\n",
      "Step 13/18 : RUN dos2unix /run.sh\n",
      " ---> Running in 8d5197720348\n",
      "\u001b[91mdos2unix: converting file /run.sh to Unix format...\n",
      "\u001b[0mRemoving intermediate container 8d5197720348\n",
      " ---> c63738bb6207\n",
      "Step 14/18 : RUN dos2unix /runMaster.sh\n",
      " ---> Running in aed759f481b7\n",
      "\u001b[91mdos2unix: converting file /runMaster.sh to Unix format...\n",
      "\u001b[0mRemoving intermediate container aed759f481b7\n",
      " ---> 3910cc1bad9d\n",
      "Step 15/18 : RUN dos2unix /runStation.sh\n",
      " ---> Running in b550270c730a\n",
      "\u001b[91mdos2unix: converting file /runStation.sh to Unix format...\n",
      "\u001b[0mRemoving intermediate container b550270c730a\n",
      " ---> d7df1985ecf9\n",
      "Step 16/18 : RUN dos2unix /app/**\n",
      " ---> Running in dde420b7f3df\n",
      "\u001b[91mdos2unix: converting file /app/StationInterfaceFunctions.py to Unix format...\n",
      "\u001b[0m\u001b[91mdos2unix: converting file /app/TaskDto.py to Unix format...\n",
      "dos2unix: Skipping /app/__pycache__, not a regular file.\n",
      "\u001b[0m\u001b[91mdos2unix: converting file /app/masterAlgorithmWrapper.py to Unix format...\n",
      "\u001b[0m\u001b[91mdos2unix: converting file /app/requirements.txt to Unix format...\n",
      "dos2unix: converting file /app/stationAlgorithmWrapper.py to Unix format...\n",
      "\u001b[0mRemoving intermediate container dde420b7f3df\n",
      " ---> 9e5154eb33f8\n",
      "Step 17/18 : WORKDIR /\n",
      " ---> Running in 8687beed0be6\n",
      "Removing intermediate container 8687beed0be6\n",
      " ---> 538714145870\n",
      "Step 18/18 : CMD [\"sh\", \"/run.sh\"]\n",
      " ---> Running in 5f695f43ebdf\n",
      "Removing intermediate container 5f695f43ebdf\n",
      " ---> d32580336013\n",
      "Successfully built d32580336013\n",
      "Successfully tagged test_train:latest\n",
      "SECURITY WARNING: You are building a Docker image from Windows against a non-Windows Docker host. All files and directories added to build context will have '-rwxr-xr-x' permissions. It is recommended to double check and reset permissions for sensitive files and directories.\n",
      "\n"
     ]
    }
   ],
   "source": [
    "import subprocess\n",
    "result = subprocess.run('docker build --no-cache -t test_train .', shell=True, stdout=subprocess.PIPE)\n",
    "print(result.stdout.decode(\"utf-8\") )\n"
   ]
  },
  {
   "cell_type": "markdown",
   "metadata": {},
   "source": [
    "### Test Train Status"
   ]
  },
  {
   "cell_type": "code",
   "execution_count": null,
   "metadata": {},
   "outputs": [],
   "source": [
    "from CentralMock import *\n",
    "centralMock = CentralMock()\n",
    "centralMock.startContainer()\n",
    "status = centralMock.doesContainerRespond()\n",
    "centralMock.stopContainer()\n",
    "if status == True:\n",
    "    print(\"build succesful, ready to start debugging using the other notebooks\")"
   ]
  },
  {
   "cell_type": "code",
   "execution_count": null,
   "metadata": {},
   "outputs": [],
   "source": []
  }
 ],
 "metadata": {
  "kernelspec": {
   "display_name": "Python 3",
   "language": "python",
   "name": "python3"
  },
  "language_info": {
   "codemirror_mode": {
    "name": "ipython",
    "version": 3
   },
   "file_extension": ".py",
   "mimetype": "text/x-python",
   "name": "python",
   "nbconvert_exporter": "python",
   "pygments_lexer": "ipython3",
   "version": "3.7.4"
  }
 },
 "nbformat": 4,
 "nbformat_minor": 4
}
